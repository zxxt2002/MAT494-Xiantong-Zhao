{
  "nbformat": 4,
  "nbformat_minor": 0,
  "metadata": {
    "colab": {
      "provenance": [],
      "collapsed_sections": [],
      "authorship_tag": "ABX9TyNRGIHDwCrwPSMUHgC15owK",
      "include_colab_link": true
    },
    "kernelspec": {
      "name": "python3",
      "display_name": "Python 3"
    },
    "language_info": {
      "name": "python"
    }
  },
  "cells": [
    {
      "cell_type": "markdown",
      "metadata": {
        "id": "view-in-github",
        "colab_type": "text"
      },
      "source": [
        "<a href=\"https://colab.research.google.com/github/zxxt2002/MAT494-Xiantong-Zhao/blob/main/HW_1_3.ipynb\" target=\"_parent\"><img src=\"https://colab.research.google.com/assets/colab-badge.svg\" alt=\"Open In Colab\"/></a>"
      ]
    },
    {
      "cell_type": "markdown",
      "source": [
        "Gram-Schmidt Process"
      ],
      "metadata": {
        "id": "fmTUUAJC0hQ6"
      }
    },
    {
      "cell_type": "code",
      "source": [
        "# L-20 MCS 507 Fri 11 Oct 2013 : gramschmidt.py\n",
        "\n",
        "import numpy as np\n",
        "\n",
        "def gramschmidt(A):\n",
        "    \"\"\"\n",
        "    Applies the Gram-Schmidt method to A\n",
        "    and returns Q and R, so Q*R = A.\n",
        "    \"\"\"\n",
        "    R = np.zeros((A.shape[1], A.shape[1]))\n",
        "    Q = np.zeros(A.shape)\n",
        "    for k in range(0, A.shape[1]):\n",
        "        R[k, k] = np.sqrt(np.dot(A[:, k], A[:, k]))\n",
        "        Q[:, k] = A[:, k]/R[k, k]\n",
        "        for j in range(k+1, A.shape[1]):\n",
        "            R[k, j] = np.dot(Q[:, k], A[:, j])\n",
        "            A[:, j] = A[:, j] - R[k, j]*Q[:, k]\n",
        "    return Q, R\n",
        "\n",
        "def main():\n",
        "    \"\"\"\n",
        "    Prompts for n and generates a random matrix.\n",
        "    \"\"\"\n",
        "    cols = int(input('give number of columns : '))\n",
        "    rows = int(input('give number of rows : '))\n",
        "    A = np.random.rand(rows, cols)\n",
        "    print('A = ')\n",
        "    print(A)\n",
        "    Q, R = gramschmidt(A)\n",
        "    print('Q = ')\n",
        "    print(Q)\n",
        "    print('R = ')\n",
        "    print(R)\n",
        "    print('Q^T*Q = ')\n",
        "    print(np.dot(Q.transpose(), Q))\n",
        "    print('Q*R =')\n",
        "    print(np.dot(Q, R))\n",
        "\n",
        "main()"
      ],
      "metadata": {
        "colab": {
          "base_uri": "https://localhost:8080/"
        },
        "id": "bBkh8gv00sJO",
        "outputId": "cf034311-fa86-4672-879a-b9ca51afd794"
      },
      "execution_count": 13,
      "outputs": [
        {
          "output_type": "stream",
          "name": "stdout",
          "text": [
            "give number of columns : 5\n",
            "give number of rows : 5\n",
            "A = \n",
            "[[0.7786489  0.072619   0.78185892 0.8657164  0.78287507]\n",
            " [0.51606937 0.97979891 0.60244506 0.38159557 0.82770614]\n",
            " [0.50311078 0.78435442 0.94667427 0.66503746 0.1581384 ]\n",
            " [0.5448276  0.1932458  0.47709034 0.02408683 0.68273656]\n",
            " [0.8791362  0.90472007 0.56008566 0.78592614 0.86516882]]\n",
            "Q = \n",
            "[[ 0.52550752 -0.63029248  0.2585512   0.35095994  0.36952894]\n",
            " [ 0.34829348  0.58408079 -0.01884055 -0.20084659  0.70487372]\n",
            " [ 0.33954777  0.38570854  0.73019197  0.10690146 -0.43741056]\n",
            " [ 0.36770231 -0.28786244 -0.0059506  -0.8637204  -0.18942514]\n",
            " [ 0.59332606  0.1730467  -0.63212387  0.28115283 -0.37335174]]\n",
            "R = \n",
            "[[ 1.48170839  1.25359613  1.44988221  1.28882696  1.51775795]\n",
            " [ 0.          0.92997332  0.18380172  0.06280696  0.00418272]\n",
            " [ 0.          0.          0.52517163  0.20530156 -0.24866631]\n",
            " [ 0.          0.          0.          0.49844416 -0.22102777]\n",
            " [ 0.          0.          0.          0.          0.35121214]]\n",
            "Q^T*Q = \n",
            "[[ 1.00000000e+00 -7.26083037e-17 -3.29353217e-16 -2.14280887e-16\n",
            "  -1.39248971e-15]\n",
            " [-7.26083037e-17  1.00000000e+00  2.51118761e-17  3.44728365e-17\n",
            "   1.05318871e-17]\n",
            " [-3.29353217e-16  2.51118761e-17  1.00000000e+00  8.90200543e-18\n",
            "   2.33328394e-17]\n",
            " [-2.14280887e-16  3.44728365e-17  8.90200543e-18  1.00000000e+00\n",
            "  -1.86981392e-17]\n",
            " [-1.39248971e-15  1.05318871e-17  2.33328394e-17 -1.86981392e-17\n",
            "   1.00000000e+00]]\n",
            "Q*R =\n",
            "[[0.7786489  0.072619   0.78185892 0.8657164  0.78287507]\n",
            " [0.51606937 0.97979891 0.60244506 0.38159557 0.82770614]\n",
            " [0.50311078 0.78435442 0.94667427 0.66503746 0.1581384 ]\n",
            " [0.5448276  0.1932458  0.47709034 0.02408683 0.68273656]\n",
            " [0.8791362  0.90472007 0.56008566 0.78592614 0.86516882]]\n"
          ]
        }
      ]
    }
  ]
}