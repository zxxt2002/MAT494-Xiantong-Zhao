{
  "nbformat": 4,
  "nbformat_minor": 0,
  "metadata": {
    "colab": {
      "provenance": [],
      "authorship_tag": "ABX9TyPL6NvobwKWfd5X6RqwPYfM",
      "include_colab_link": true
    },
    "kernelspec": {
      "name": "python3",
      "display_name": "Python 3"
    },
    "language_info": {
      "name": "python"
    }
  },
  "cells": [
    {
      "cell_type": "markdown",
      "metadata": {
        "id": "view-in-github",
        "colab_type": "text"
      },
      "source": [
        "<a href=\"https://colab.research.google.com/github/zxxt2002/MAT494-Xiantong-Zhao/blob/main/HW4_1.ipynb\" target=\"_parent\"><img src=\"https://colab.research.google.com/assets/colab-badge.svg\" alt=\"Open In Colab\"/></a>"
      ]
    },
    {
      "cell_type": "markdown",
      "source": [
        "incidence matrix and binomial distribution "
      ],
      "metadata": {
        "id": "BtOxXDr_FJqm"
      }
    },
    {
      "cell_type": "code",
      "execution_count": 2,
      "metadata": {
        "colab": {
          "base_uri": "https://localhost:8080/"
        },
        "id": "4gjJy4_3FFvu",
        "outputId": "b37c17c2-fe9b-4652-c4ff-b19b899ec68d"
      },
      "outputs": [
        {
          "output_type": "stream",
          "name": "stdout",
          "text": [
            "[[ 1.  1.  1.  0.  0.  0.  0.  0.  0.]\n",
            " [-1.  0.  0.  1.  1.  0.  0.  0.  0.]\n",
            " [ 0. -1.  0. -1.  0.  1.  1.  0.  0.]\n",
            " [ 0.  0.  0.  0. -1. -1.  0.  1.  0.]\n",
            " [ 0.  0. -1.  0.  0.  0. -1.  0.  1.]\n",
            " [ 0.  0.  0.  0.  0.  0.  0. -1. -1.]]\n"
          ]
        }
      ],
      "source": [
        "import networkx as nx\n",
        "\n",
        "nodes = [1, 2, 3, 4, 5, 6]\n",
        "edges = [[1, 2], [1, 3], [1, 5], [2, 3], [2, 4], [3, 4], [3, 5], [4, 6], [5, 6]]\n",
        "\n",
        "#how to make a incidence matrix\n",
        "G = nx.DiGraph()\n",
        "G.add_nodes_from(nodes)\n",
        "G.add_edges_from(edges)\n",
        "\n",
        "incidence_matrix = -nx.incidence_matrix(G, oriented=True) \n",
        "# ^ this returns a scipy sparse matrix, can convert into the full array as below\n",
        "# (as long as your node count is reasonable: this'll have that squared elements)\n",
        "print(incidence_matrix.toarray())"
      ]
    },
    {
      "cell_type": "code",
      "source": [
        "#calculate the mean and variance\n",
        "from scipy.stats import binom\n",
        "# setting the values\n",
        "# of n and p\n",
        "n = 6\n",
        "p = 0.6\n",
        "# defining the list of r values\n",
        "r_values = list(range(n + 1))\n",
        "# obtaining the mean and variance \n",
        "mean, var = binom.stats(n, p)\n",
        "# list of pmf values\n",
        "dist = [binom.pmf(r, n, p) for r in r_values ]\n",
        "# printing the table\n",
        "print(\"r\\tp(r)\")\n",
        "for i in range(n + 1):\n",
        "    print(str(r_values[i]) + \"\\t\" + str(dist[i]))\n",
        "# printing mean and variance\n",
        "print(\"mean = \"+str(mean))\n",
        "print(\"variance = \"+str(var))"
      ],
      "metadata": {
        "colab": {
          "base_uri": "https://localhost:8080/"
        },
        "id": "x7BHhEhZQRNT",
        "outputId": "b641ecc2-464a-4803-c3a4-d37fee3720a1"
      },
      "execution_count": 3,
      "outputs": [
        {
          "output_type": "stream",
          "name": "stdout",
          "text": [
            "r\tp(r)\n",
            "0\t0.0040960000000000015\n",
            "1\t0.03686400000000002\n",
            "2\t0.1382400000000001\n",
            "3\t0.2764800000000001\n",
            "4\t0.3110400000000001\n",
            "5\t0.1866240000000001\n",
            "6\t0.04665599999999999\n",
            "mean = 3.5999999999999996\n",
            "variance = 1.44\n"
          ]
        }
      ]
    },
    {
      "cell_type": "code",
      "source": [
        "#plot the chart\n",
        "from scipy.stats import binom\n",
        "import matplotlib.pyplot as plt\n",
        "# setting the values\n",
        "# of n and p\n",
        "n = 6\n",
        "p = 0.6\n",
        "# defining list of r values\n",
        "r_values = list(range(n + 1))\n",
        "# list of pmf values\n",
        "dist = [binom.pmf(r, n, p) for r in r_values ]\n",
        "# plotting the graph \n",
        "plt.bar(r_values, dist)\n",
        "plt.show()"
      ],
      "metadata": {
        "colab": {
          "base_uri": "https://localhost:8080/",
          "height": 265
        },
        "id": "uPza84N8QSIm",
        "outputId": "13439aea-0814-4ed4-cc1f-5f98d87dbf55"
      },
      "execution_count": 4,
      "outputs": [
        {
          "output_type": "display_data",
          "data": {
            "text/plain": [
              "<Figure size 432x288 with 1 Axes>"
            ],
            "image/png": "[encoded data removed]"
          },
          "metadata": {
            "needs_background": "light"
          }
        }
      ]
    }
  ]
}