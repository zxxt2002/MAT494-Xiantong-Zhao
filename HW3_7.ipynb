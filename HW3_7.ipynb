{
  "nbformat": 4,
  "nbformat_minor": 0,
  "metadata": {
    "colab": {
      "provenance": [],
      "authorship_tag": "ABX9TyMWFwYZFfe23vm24BikwH8C",
      "include_colab_link": true
    },
    "kernelspec": {
      "name": "python3",
      "display_name": "Python 3"
    },
    "language_info": {
      "name": "python"
    }
  },
  "cells": [
    {
      "cell_type": "markdown",
      "metadata": {
        "id": "view-in-github",
        "colab_type": "text"
      },
      "source": [
        "<a href=\"https://colab.research.google.com/github/zxxt2002/MAT494-Xiantong-Zhao/blob/main/HW3_7.ipynb\" target=\"_parent\"><img src=\"https://colab.research.google.com/assets/colab-badge.svg\" alt=\"Open In Colab\"/></a>"
      ]
    },
    {
      "cell_type": "markdown",
      "source": [
        "Central Limit Theorem"
      ],
      "metadata": {
        "id": "aXh2SvmsiB6r"
      }
    },
    {
      "cell_type": "code",
      "execution_count": 3,
      "metadata": {
        "colab": {
          "base_uri": "https://localhost:8080/",
          "height": 499
        },
        "id": "LwskDSp4hsq2",
        "outputId": "61f6b371-8784-41e5-e701-fc25ecb9ed63"
      },
      "outputs": [
        {
          "output_type": "display_data",
          "data": {
            "text/plain": [
              "<Figure size 576x576 with 4 Axes>"
            ],
            "image/png": "[encoded data removed]"
          },
          "metadata": {
            "needs_background": "light"
          }
        }
      ],
      "source": [
        "import numpy\n",
        "import matplotlib.pyplot as plt\n",
        " \n",
        "# number of sample\n",
        "num = [1, 10, 50, 100] \n",
        "# list of sample means\n",
        "means = [] \n",
        " \n",
        "# Generating 1, 10, 30, 100 random numbers from -40 to 40\n",
        "# taking their mean and appending it to list means.\n",
        "for j in num:\n",
        "    # Generating seed so that we can get same result\n",
        "    # every time the loop is run...\n",
        "    numpy.random.seed(1)\n",
        "    x = [numpy.mean(\n",
        "        numpy.random.randint(\n",
        "            -40, 40, j)) for _i in range(1000)]\n",
        "    means.append(x)\n",
        "k = 0\n",
        " \n",
        "# plotting all the means in one figure\n",
        "fig, ax = plt.subplots(2, 2, figsize =(8, 8))\n",
        "for i in range(0, 2):\n",
        "    for j in range(0, 2):\n",
        "        # Histogram for each x stored in means\n",
        "        ax[i, j].hist(means[k], 10, density = True)\n",
        "        ax[i, j].set_title(label = num[k])\n",
        "        k = k + 1\n",
        "plt.show()"
      ]
    },
    {
      "cell_type": "code",
      "source": [
        "#another example for CLT (Exponentially distributed population)\n",
        "# Importing necessary libraries\n",
        "import warnings\n",
        "warnings.filterwarnings('ignore')\n",
        "import pandas as pd, numpy as np\n",
        "import matplotlib.pyplot as plt\n",
        "%matplotlib inline\n",
        "import seaborn as sns\n",
        "\n",
        "\n",
        "# rate parameter for the exponentially distributed population\n",
        "rate = 0.25\n",
        "\n",
        "#Population mean\n",
        "mu = 1/rate\n",
        "\n",
        "# Population standard deviation\n",
        "sd = np.sqrt(1/(rate**2))\n",
        "\n",
        "print('Population mean:', mu)\n",
        "print('Population standard deviation:', sd)\n",
        "\n",
        "# drawing 50 random samples of size 2 from the exponentially distributed population\n",
        "sample_size = 2\n",
        "df2 = pd.DataFrame(index= ['x1', 'x2'] )\n",
        "\n",
        "for i in range(1, 51):\n",
        "    exponential_sample = np.random.exponential((1/rate), sample_size)\n",
        "    col = f'sample {i}'\n",
        "    df2[col] = exponential_sample\n",
        "\n",
        "# Taking a peek at the samples(comment out below two line to see the samples)\n",
        "df2"
      ],
      "metadata": {
        "colab": {
          "base_uri": "https://localhost:8080/",
          "height": 258
        },
        "id": "uoCH3k7FisoN",
        "outputId": "f95a6cf3-2ab8-475e-a84a-1d40cf416a83"
      },
      "execution_count": 6,
      "outputs": [
        {
          "output_type": "stream",
          "name": "stdout",
          "text": [
            "Population mean: 4.0\n",
            "Population standard deviation: 4.0\n"
          ]
        },
        {
          "output_type": "execute_result",
          "data": {
            "text/plain": [
              "    sample 1  sample 2  sample 3  sample 4  sample 5  sample 6   sample 7  \\\n",
              "x1  2.538987  5.377921  3.213048  4.710917  2.578731  1.436809  10.685622   \n",
              "x2  0.053889  2.276943  1.037040  4.026972  2.438412  0.135221   4.157326   \n",
              "\n",
              "    sample 8  sample 9  sample 10  ...  sample 41  sample 42  sample 43  \\\n",
              "x1  0.702778  0.157044   6.476593  ...   4.270440  14.880204   1.027039   \n",
              "x2  6.908656  1.169889  12.922229  ...   1.965404   1.814038  10.544587   \n",
              "\n",
              "    sample 44  sample 45  sample 46  sample 47  sample 48  sample 49  \\\n",
              "x1   5.208704   5.295508   5.102392   0.494480  12.004827   0.651849   \n",
              "x2   6.694031   4.520691   1.280295   0.109562   1.230608   3.484678   \n",
              "\n",
              "    sample 50  \n",
              "x1   1.083007  \n",
              "x2   3.066007  \n",
              "\n",
              "[2 rows x 50 columns]"
            ],
            "text/html": [
              "\n",
              "  <div id=\"df-9339d836-7fd0-45ad-a900-1b9e6475b7d9\">\n",
              "    <div class=\"colab-df-container\">\n",
              "      <div>\n",
              "<style scoped>\n",
              "    .dataframe tbody tr th:only-of-type {\n",
              "        vertical-align: middle;\n",
              "    }\n",
              "\n",
              "    .dataframe tbody tr th {\n",
              "        vertical-align: top;\n",
              "    }\n",
              "\n",
              "    .dataframe thead th {\n",
              "        text-align: right;\n",
              "    }\n",
              "</style>\n",
              "<table border=\"1\" class=\"dataframe\">\n",
              "  <thead>\n",
              "    <tr style=\"text-align: right;\">\n",
              "      <th></th>\n",
              "      <th>sample 1</th>\n",
              "      <th>sample 2</th>\n",
              "      <th>sample 3</th>\n",
              "      <th>sample 4</th>\n",
              "      <th>sample 5</th>\n",
              "      <th>sample 6</th>\n",
              "      <th>sample 7</th>\n",
              "      <th>sample 8</th>\n",
              "      <th>sample 9</th>\n",
              "      <th>sample 10</th>\n",
              "      <th>...</th>\n",
              "      <th>sample 41</th>\n",
              "      <th>sample 42</th>\n",
              "      <th>sample 43</th>\n",
              "      <th>sample 44</th>\n",
              "      <th>sample 45</th>\n",
              "      <th>sample 46</th>\n",
              "      <th>sample 47</th>\n",
              "      <th>sample 48</th>\n",
              "      <th>sample 49</th>\n",
              "      <th>sample 50</th>\n",
              "    </tr>\n",
              "  </thead>\n",
              "  <tbody>\n",
              "    <tr>\n",
              "      <th>x1</th>\n",
              "      <td>2.538987</td>\n",
              "      <td>5.377921</td>\n",
              "      <td>3.213048</td>\n",
              "      <td>4.710917</td>\n",
              "      <td>2.578731</td>\n",
              "      <td>1.436809</td>\n",
              "      <td>10.685622</td>\n",
              "      <td>0.702778</td>\n",
              "      <td>0.157044</td>\n",
              "      <td>6.476593</td>\n",
              "      <td>...</td>\n",
              "      <td>4.270440</td>\n",
              "      <td>14.880204</td>\n",
              "      <td>1.027039</td>\n",
              "      <td>5.208704</td>\n",
              "      <td>5.295508</td>\n",
              "      <td>5.102392</td>\n",
              "      <td>0.494480</td>\n",
              "      <td>12.004827</td>\n",
              "      <td>0.651849</td>\n",
              "      <td>1.083007</td>\n",
              "    </tr>\n",
              "    <tr>\n",
              "      <th>x2</th>\n",
              "      <td>0.053889</td>\n",
              "      <td>2.276943</td>\n",
              "      <td>1.037040</td>\n",
              "      <td>4.026972</td>\n",
              "      <td>2.438412</td>\n",
              "      <td>0.135221</td>\n",
              "      <td>4.157326</td>\n",
              "      <td>6.908656</td>\n",
              "      <td>1.169889</td>\n",
              "      <td>12.922229</td>\n",
              "      <td>...</td>\n",
              "      <td>1.965404</td>\n",
              "      <td>1.814038</td>\n",
              "      <td>10.544587</td>\n",
              "      <td>6.694031</td>\n",
              "      <td>4.520691</td>\n",
              "      <td>1.280295</td>\n",
              "      <td>0.109562</td>\n",
              "      <td>1.230608</td>\n",
              "      <td>3.484678</td>\n",
              "      <td>3.066007</td>\n",
              "    </tr>\n",
              "  </tbody>\n",
              "</table>\n",
              "<p>2 rows × 50 columns</p>\n",
              "</div>\n",
              "      <button class=\"colab-df-convert\" onclick=\"convertToInteractive('df-9339d836-7fd0-45ad-a900-1b9e6475b7d9')\"\n",
              "              title=\"Convert this dataframe to an interactive table.\"\n",
              "              style=\"display:none;\">\n",
              "        \n",
              "  <svg xmlns=\"http://www.w3.org/2000/svg\" height=\"24px\"viewBox=\"0 0 24 24\"\n",
              "       width=\"24px\">\n",
              "    <path d=\"M0 0h24v24H0V0z\" fill=\"none\"/>\n",
              "    <path d=\"M18.56 5.44l.94 2.06.94-2.06 2.06-.94-2.06-.94-.94-2.06-.94 2.06-2.06.94zm-11 1L8.5 8.5l.94-2.06 2.06-.94-2.06-.94L8.5 2.5l-.94 2.06-2.06.94zm10 10l.94 2.06.94-2.06 2.06-.94-2.06-.94-.94-2.06-.94 2.06-2.06.94z\"/><path d=\"M17.41 7.96l-1.37-1.37c-.4-.4-.92-.59-1.43-.59-.52 0-1.04.2-1.43.59L10.3 9.45l-7.72 7.72c-.78.78-.78 2.05 0 2.83L4 21.41c.39.39.9.59 1.41.59.51 0 1.02-.2 1.41-.59l7.78-7.78 2.81-2.81c.8-.78.8-2.07 0-2.86zM5.41 20L4 18.59l7.72-7.72 1.47 1.35L5.41 20z\"/>\n",
              "  </svg>\n",
              "      </button>\n",
              "      \n",
              "  <style>\n",
              "    .colab-df-container {\n",
              "      display:flex;\n",
              "      flex-wrap:wrap;\n",
              "      gap: 12px;\n",
              "    }\n",
              "\n",
              "    .colab-df-convert {\n",
              "      background-color: #E8F0FE;\n",
              "      border: none;\n",
              "      border-radius: 50%;\n",
              "      cursor: pointer;\n",
              "      display: none;\n",
              "      fill: #1967D2;\n",
              "      height: 32px;\n",
              "      padding: 0 0 0 0;\n",
              "      width: 32px;\n",
              "    }\n",
              "\n",
              "    .colab-df-convert:hover {\n",
              "      background-color: #E2EBFA;\n",
              "      box-shadow: 0px 1px 2px rgba(60, 64, 67, 0.3), 0px 1px 3px 1px rgba(60, 64, 67, 0.15);\n",
              "      fill: #174EA6;\n",
              "    }\n",
              "\n",
              "    [theme=dark] .colab-df-convert {\n",
              "      background-color: #3B4455;\n",
              "      fill: #D2E3FC;\n",
              "    }\n",
              "\n",
              "    [theme=dark] .colab-df-convert:hover {\n",
              "      background-color: #434B5C;\n",
              "      box-shadow: 0px 1px 3px 1px rgba(0, 0, 0, 0.15);\n",
              "      filter: drop-shadow(0px 1px 2px rgba(0, 0, 0, 0.3));\n",
              "      fill: #FFFFFF;\n",
              "    }\n",
              "  </style>\n",
              "\n",
              "      <script>\n",
              "        const buttonEl =\n",
              "          document.querySelector('#df-9339d836-7fd0-45ad-a900-1b9e6475b7d9 button.colab-df-convert');\n",
              "        buttonEl.style.display =\n",
              "          google.colab.kernel.accessAllowed ? 'block' : 'none';\n",
              "\n",
              "        async function convertToInteractive(key) {\n",
              "          const element = document.querySelector('#df-9339d836-7fd0-45ad-a900-1b9e6475b7d9');\n",
              "          const dataTable =\n",
              "            await google.colab.kernel.invokeFunction('convertToInteractive',\n",
              "                                                     [key], {});\n",
              "          if (!dataTable) return;\n",
              "\n",
              "          const docLinkHtml = 'Like what you see? Visit the ' +\n",
              "            '<a target=\"_blank\" href=https://colab.research.google.com/notebooks/data_table.ipynb>data table notebook</a>'\n",
              "            + ' to learn more about interactive tables.';\n",
              "          element.innerHTML = '';\n",
              "          dataTable['output_type'] = 'display_data';\n",
              "          await google.colab.output.renderOutput(dataTable, element);\n",
              "          const docLink = document.createElement('div');\n",
              "          docLink.innerHTML = docLinkHtml;\n",
              "          element.appendChild(docLink);\n",
              "        }\n",
              "      </script>\n",
              "    </div>\n",
              "  </div>\n",
              "  "
            ]
          },
          "metadata": {},
          "execution_count": 6
        }
      ]
    },
    {
      "cell_type": "code",
      "source": [
        "# Calculating sample means and plotting their distribution(sample size = 2)\n",
        "df2_sample_means = df2.mean()\n",
        "sns.distplot(df2_sample_means);"
      ],
      "metadata": {
        "colab": {
          "base_uri": "https://localhost:8080/",
          "height": 265
        },
        "id": "eEAm6qbYjodu",
        "outputId": "1c70eb57-5249-4425-bbaa-ad77f9f30e6d"
      },
      "execution_count": 7,
      "outputs": [
        {
          "output_type": "display_data",
          "data": {
            "text/plain": [
              "<Figure size 432x288 with 1 Axes>"
            ],
            "image/png": "[encoded data removed]"
          },
          "metadata": {
            "needs_background": "light"
          }
        }
      ]
    },
    {
      "cell_type": "code",
      "source": [
        "# drawing 50 random samples of size 500\n",
        "sample_size=500\n",
        "\n",
        "df500 = pd.DataFrame()\n",
        "\n",
        "for i in range(1, 51):\n",
        "    exponential_sample = np.random.exponential((1/rate), sample_size)\n",
        "    col = f'sample {i}'\n",
        "    df500[col] = exponential_sample\n",
        "\n",
        "\n",
        "df500_sample_means = pd.DataFrame(df500.mean(),columns=['Sample means'])\n",
        "sns.distplot(df500_sample_means);"
      ],
      "metadata": {
        "colab": {
          "base_uri": "https://localhost:8080/",
          "height": 265
        },
        "id": "eSJ8_vt9jqc0",
        "outputId": "366e12d7-a730-4001-80f7-63f98c07549d"
      },
      "execution_count": 8,
      "outputs": [
        {
          "output_type": "display_data",
          "data": {
            "text/plain": [
              "<Figure size 432x288 with 1 Axes>"
            ],
            "image/png": "[encoded data removed]"
          },
          "metadata": {
            "needs_background": "light"
          }
        }
      ]
    }
  ]
}