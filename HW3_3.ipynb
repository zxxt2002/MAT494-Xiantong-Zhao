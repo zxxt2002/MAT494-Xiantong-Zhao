{
  "nbformat": 4,
  "nbformat_minor": 0,
  "metadata": {
    "colab": {
      "provenance": [],
      "authorship_tag": "ABX9TyPgxgSTEhB9M9TMKKafmQFp",
      "include_colab_link": true
    },
    "kernelspec": {
      "name": "python3",
      "display_name": "Python 3"
    },
    "language_info": {
      "name": "python"
    }
  },
  "cells": [
    {
      "cell_type": "markdown",
      "metadata": {
        "id": "view-in-github",
        "colab_type": "text"
      },
      "source": [
        "<a href=\"https://colab.research.google.com/github/zxxt2002/MAT494-Xiantong-Zhao/blob/main/HW3_3.ipynb\" target=\"_parent\"><img src=\"https://colab.research.google.com/assets/colab-badge.svg\" alt=\"Open In Colab\"/></a>"
      ]
    },
    {
      "cell_type": "markdown",
      "source": [
        "Function Composition and Derivative"
      ],
      "metadata": {
        "id": "bZp-bkCwHOmM"
      }
    },
    {
      "cell_type": "markdown",
      "source": [
        "one exxample for basic composition:"
      ],
      "metadata": {
        "id": "up0_c521HcSa"
      }
    },
    {
      "cell_type": "code",
      "execution_count": 1,
      "metadata": {
        "colab": {
          "base_uri": "https://localhost:8080/"
        },
        "id": "PLdEhIp28-NF",
        "outputId": "ca873dca-a31c-4c35-9635-41c386d06aca"
      },
      "outputs": [
        {
          "output_type": "stream",
          "name": "stdout",
          "text": [
            "Adding 2 to 5 and multiplying the result with 2:  14\n"
          ]
        }
      ],
      "source": [
        "# Function to combine two\n",
        "# function which it accepts \n",
        "# as argument\n",
        "def composite_function(f, g):\n",
        "    return lambda x : f(g(x))\n",
        "  \n",
        "# Function to add 2\n",
        "def add(x):\n",
        "    return x + 2\n",
        "  \n",
        "# Function to multiply 2\n",
        "def multiply(x):\n",
        "    return x * 2\n",
        "  \n",
        "# Composite function returns\n",
        "# a lambda function. Here add_multiply\n",
        "# will store lambda x : multiply(add(x))\n",
        "add_multiply = composite_function(multiply, add)\n",
        "  \n",
        "print(\"Adding 2 to 5 and multiplying the result with 2: \",\n",
        "      add_multiply(5))"
      ]
    },
    {
      "cell_type": "markdown",
      "source": [
        "Composing N number of function"
      ],
      "metadata": {
        "id": "FMOZU6GqHgI6"
      }
    },
    {
      "cell_type": "code",
      "source": [
        "# Function to combine two \n",
        "# function which it accepts\n",
        "# as argument\n",
        "def composite_function(f, g):\n",
        "      \n",
        "    return lambda x : f(g(x))\n",
        "  \n",
        "# Function to add 2\n",
        "def add(x):\n",
        "    return x + 2\n",
        "  \n",
        "# Function to multiply 2\n",
        "def multiply(x):\n",
        "    return x * 2\n",
        "  \n",
        "# Function to subtract 2\n",
        "def subtract(x):\n",
        "    return x - 1\n",
        "  \n",
        "# Composite function returns\n",
        "# a lambda function. Here\n",
        "# add_subtract_multiply will \n",
        "# store lambda x : multiply(subtract(add(x)))\n",
        "add_subtract_multiply = composite_function(composite_function(multiply,\n",
        "                                                              subtract), \n",
        "                                           add)\n",
        "  \n",
        "  \n",
        "print(\"Adding 2 to 5, then subtracting 1 and multiplying the result with 2: \",\n",
        "      add_subtract_multiply(5))"
      ],
      "metadata": {
        "colab": {
          "base_uri": "https://localhost:8080/"
        },
        "id": "5TYapy2nHjVG",
        "outputId": "d9ddd111-5865-40e2-8fd1-98a8bba47cc0"
      },
      "execution_count": 2,
      "outputs": [
        {
          "output_type": "stream",
          "name": "stdout",
          "text": [
            "Adding 2 to 5, then subtracting 1 and multiplying the result with 2:  12\n"
          ]
        }
      ]
    },
    {
      "cell_type": "markdown",
      "source": [
        "derivative"
      ],
      "metadata": {
        "id": "nbmXg-7RHpEz"
      }
    },
    {
      "cell_type": "code",
      "source": [
        "from sympy import *\n",
        "\n",
        "#derivative with one variable \n",
        "\n",
        "#create multiple variable to use\n",
        "x, y, z = symbols('x y z')\n",
        "f = 2*x**2+3\n",
        "#derivative function without function of pluging value\n",
        "f_prime = f.diff(x)\n",
        "print(\"the derivative result: \",f_prime)\n",
        "f = lambdify(x, f)\n",
        "#derivative function with function of pluging value\n",
        "f_prime = lambdify(x, f_prime)\n",
        "# Let's test it out\n",
        "print(\"the derivative result with x = 3: \",f_prime(3))\n",
        "print(\"the derivative result with x = y: \",f_prime(y))"
      ],
      "metadata": {
        "colab": {
          "base_uri": "https://localhost:8080/"
        },
        "id": "oYH1F3nQJEzF",
        "outputId": "c92a0d3a-f370-402f-8724-03a79a55480a"
      },
      "execution_count": 12,
      "outputs": [
        {
          "output_type": "stream",
          "name": "stdout",
          "text": [
            "the derivative result:  4*x\n",
            "the derivative result with x = 3:  12\n",
            "the derivative result with x = y:  4*y\n"
          ]
        }
      ]
    },
    {
      "cell_type": "code",
      "source": [
        "from sympy import symbols, diff\n",
        "\n",
        "#derivative with three variable \n",
        "\n",
        "x, y, z = symbols('x y z', real=True)\n",
        "f = 4*x*y + x*sin(z) + x**3 + z**8*y\n",
        "print(\"the function: \", f)\n",
        "print(\"the partial derivative of x result: \",diff(f, x))\n",
        "print(\"the partial derivative of y result: \",diff(f, y))\n",
        "print(\"the partial derivative of z result: \",diff(f, z))"
      ],
      "metadata": {
        "colab": {
          "base_uri": "https://localhost:8080/"
        },
        "id": "I1uPKdsMJnCi",
        "outputId": "5bc32f79-844f-46da-f0d6-d276537c8808"
      },
      "execution_count": 16,
      "outputs": [
        {
          "output_type": "stream",
          "name": "stdout",
          "text": [
            "the function:  x**3 + 4*x*y + x*sin(z) + y*z**8\n",
            "the partial derivative of x result:  3*x**2 + 4*y + sin(z)\n",
            "the partial derivative of y result:  4*x + z**8\n",
            "the partial derivative of z result:  x*cos(z) + 8*y*z**7\n"
          ]
        }
      ]
    }
  ]
}