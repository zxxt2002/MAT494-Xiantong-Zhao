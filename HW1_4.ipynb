{
  "nbformat": 4,
  "nbformat_minor": 0,
  "metadata": {
    "colab": {
      "provenance": [],
      "authorship_tag": "ABX9TyO2X+3gBZp+g2jrlqJXzQry",
      "include_colab_link": true
    },
    "kernelspec": {
      "name": "python3",
      "display_name": "Python 3"
    },
    "language_info": {
      "name": "python"
    }
  },
  "cells": [
    {
      "cell_type": "markdown",
      "metadata": {
        "id": "view-in-github",
        "colab_type": "text"
      },
      "source": [
        "<a href=\"https://colab.research.google.com/github/zxxt2002/MAT494-Xiantong-Zhao/blob/main/HW1_4.ipynb\" target=\"_parent\"><img src=\"https://colab.research.google.com/assets/colab-badge.svg\" alt=\"Open In Colab\"/></a>"
      ]
    },
    {
      "cell_type": "markdown",
      "source": [
        "Mean Vector and Covariance Matrix"
      ],
      "metadata": {
        "id": "p_dxb7Gvp1x9"
      }
    },
    {
      "cell_type": "markdown",
      "source": [
        "know how to get covariance matrix"
      ],
      "metadata": {
        "id": "owz2yoq6p3Zh"
      }
    },
    {
      "cell_type": "code",
      "execution_count": 1,
      "metadata": {
        "id": "jzrzeK7KpwHl"
      },
      "outputs": [],
      "source": [
        "import numpy as np\n",
        "import seaborn as sn\n",
        "import matplotlib.pyplot as plt"
      ]
    },
    {
      "cell_type": "code",
      "source": [
        "x = np.array([[0, 3, 4], [1, 2, 4], [3, 4, 5]])\n",
        " \n",
        "print(\"Shape of array:\\n\", np.shape(x))\n",
        " \n",
        "print(\"Covariance matrix of x:\\n\", np.cov(x))\n",
        "\n",
        "#create covariance with different data form\n",
        "A = [45,37,42,35,39]\n",
        "B = [38,31,26,28,33]\n",
        "C = [10,15,17,21,12]\n",
        "\n",
        "data = np.array([A,B,C])\n",
        "\n",
        "covMatrix = np.cov(data,bias=True)\n",
        "print (covMatrix)"
      ],
      "metadata": {
        "colab": {
          "base_uri": "https://localhost:8080/"
        },
        "id": "JISpAPDXp-h3",
        "outputId": "5359c2b4-4bd7-4eaa-adfe-192e0133aad3"
      },
      "execution_count": 2,
      "outputs": [
        {
          "output_type": "stream",
          "name": "stdout",
          "text": [
            "Shape of array:\n",
            " (3, 3)\n",
            "Covariance matrix of x:\n",
            " [[4.33333333 2.83333333 2.        ]\n",
            " [2.83333333 2.33333333 1.5       ]\n",
            " [2.         1.5        1.        ]]\n",
            "[[ 12.64   7.68  -9.6 ]\n",
            " [  7.68  17.36 -13.8 ]\n",
            " [ -9.6  -13.8   14.8 ]]\n"
          ]
        }
      ]
    },
    {
      "cell_type": "markdown",
      "source": [
        "visualize of covariance matrix"
      ],
      "metadata": {
        "id": "sUvEPuZtqBDF"
      }
    },
    {
      "cell_type": "code",
      "source": [
        "A = [45,37,42,35,39]\n",
        "B = [38,31,26,28,33]\n",
        "C = [10,15,17,21,12]\n",
        "\n",
        "data = np.array([A,B,C])\n",
        "\n",
        "covMatrix = np.cov(data,bias=True)\n",
        "sn.heatmap(covMatrix, annot=True, fmt='g')\n",
        "plt.show()"
      ],
      "metadata": {
        "colab": {
          "base_uri": "https://localhost:8080/",
          "height": 265
        },
        "id": "L3tsQekfqIFD",
        "outputId": "8873ae6b-9532-4adc-eb5f-6fa4161e49db"
      },
      "execution_count": 3,
      "outputs": [
        {
          "output_type": "display_data",
          "data": {
            "text/plain": [
              "<Figure size 432x288 with 2 Axes>"
            ],
            "image/png": "[encoded data removed]"
          },
          "metadata": {
            "needs_background": "light"
          }
        }
      ]
    },
    {
      "cell_type": "markdown",
      "source": [
        "find mean vector"
      ],
      "metadata": {
        "id": "nmJMjQ0MqMxt"
      }
    },
    {
      "cell_type": "code",
      "source": [
        "A = [45,37,42,35,39]\n",
        "B = [38,31,26,28,33]\n",
        "C = [10,15,17,21,12]\n",
        "\n",
        "a = np.array([A, B, C])\n",
        "#b is the mean vector of [A, B, C]  \n",
        "b=np.mean(a,axis=0)    \n",
        "print(b)"
      ],
      "metadata": {
        "colab": {
          "base_uri": "https://localhost:8080/"
        },
        "id": "ORfGim5GqV5l",
        "outputId": "2d53aaa6-5d92-4e26-844b-72e9c2706f96"
      },
      "execution_count": 15,
      "outputs": [
        {
          "output_type": "stream",
          "name": "stdout",
          "text": [
            "[31.         27.66666667 28.33333333 28.         28.        ]\n"
          ]
        }
      ]
    }
  ]
}