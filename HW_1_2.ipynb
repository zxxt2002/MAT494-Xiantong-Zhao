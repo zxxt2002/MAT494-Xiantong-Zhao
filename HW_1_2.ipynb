{
  "nbformat": 4,
  "nbformat_minor": 0,
  "metadata": {
    "colab": {
      "name": "HW-1.2.ipynb",
      "provenance": [],
      "collapsed_sections": []
    },
    "kernelspec": {
      "name": "python3",
      "display_name": "Python 3"
    },
    "language_info": {
      "name": "python"
    }
  },
  "cells": [
    {
      "cell_type": "markdown",
      "source": [
        "pythagorean theory in 3d coordinate system "
      ],
      "metadata": {
        "id": "z7MKdLHsjYLQ"
      }
    },
    {
      "cell_type": "code",
      "source": [
        "import numpy as np\n",
        "\n",
        "#create a random vector a which is one of side of right angle\n",
        "a = np.random.rand(3)\n",
        "print('vector a: ',a)\n",
        "\n",
        "#create a vecotor b perpendicular to the a, b will be one of the side of right angle\n",
        "b = np.empty_like(a)\n",
        "b[0] = a[1]\n",
        "b[1] = -a[0]\n",
        "b[2] = 0\n",
        "print('vector b: ',b)\n",
        "\n",
        "# the third side of triangle will be c\n",
        "c = a - b\n",
        "print('vector c: ',c)\n",
        "\n",
        "#get c^2, a^2, b^2\n",
        "d = np.dot(c,c)\n",
        "e = np.dot(a,a)\n",
        "f = np.dot(b,b)\n",
        "\n",
        "#print c^2\n",
        "print('c^2: ', np.dot(c,c))\n",
        "#print a^2\n",
        "print('a^2: ', np.dot(a,a))\n",
        "#print b^2\n",
        "print('b^2: ', np.dot(b,b))\n",
        "#calculate if the a^2 + b^2 be equal to c^2 (pythagorean theory) by using c^2 - a^2 - b^2\n",
        "print('c^2 - a^2 - b^2 = ', d - e - f)"
      ],
      "metadata": {
        "colab": {
          "base_uri": "https://localhost:8080/"
        },
        "id": "1DzPWztxjo8P",
        "outputId": "ddbf5652-8b3d-4e69-a5c7-c7cec0d6a97d"
      },
      "execution_count": 43,
      "outputs": [
        {
          "output_type": "stream",
          "name": "stdout",
          "text": [
            "vector a:  [0.5167534  0.50146772 0.91029023]\n",
            "vector b:  [ 0.50146772 -0.5167534   0.        ]\n",
            "vector c:  [0.01528568 1.01822112 0.91029023]\n",
            "c^2:  1.8656362083653928\n",
            "a^2:  1.3471322568683566\n",
            "b^2:  0.5185039514970362\n",
            "c^2 - a^2 - b^2 =  0.0\n"
          ]
        }
      ]
    },
    {
      "cell_type": "markdown",
      "source": [
        "Eigenvalues and eigenvectors"
      ],
      "metadata": {
        "id": "YG7sQ2W1T92v"
      }
    },
    {
      "cell_type": "code",
      "source": [
        "from numpy.linalg import eig\n",
        "from numpy.linalg import eigvals\n",
        "#create a square matrix a\n",
        "a = [[1, 2, 3],\n",
        "     [4, 5, 6],\n",
        "     [7, 8, 9]]\n",
        "\n",
        "# use eig(a) to Calculate the eigenvalues and eigenvectors of the square matrix.\n",
        "w,v=eig(a)\n",
        "print('E-value:', w)\n",
        "print('E-vector', v)\n",
        "# use eigvals(a) to Calculate the eigenvalues of the square matrix.\n",
        "w = eigvals(a)\n",
        "print('E-value:', w)\n",
        "\n",
        "# verify that the eigenvalues and eigenvectors are correct by the definition of engenvalues and eignvectors     \n",
        "if np.allclose(w * v, np.dot(a, v)):\n",
        "        print('Correct')\n",
        "else:\n",
        "        print('Wrong')"
      ],
      "metadata": {
        "colab": {
          "base_uri": "https://localhost:8080/"
        },
        "id": "zAFd_AkwjNMy",
        "outputId": "bf66fe23-21b8-4ff9-c085-97f8ff8a61b0"
      },
      "execution_count": 42,
      "outputs": [
        {
          "output_type": "stream",
          "name": "stdout",
          "text": [
            "E-value: [ 1.61168440e+01 -1.11684397e+00 -1.30367773e-15]\n",
            "E-vector [[-0.23197069 -0.78583024  0.40824829]\n",
            " [-0.52532209 -0.08675134 -0.81649658]\n",
            " [-0.8186735   0.61232756  0.40824829]]\n",
            "E-value: [ 1.61168440e+01 -1.11684397e+00 -1.30367773e-15]\n",
            "Correct\n"
          ]
        }
      ]
    },
    {
      "cell_type": "markdown",
      "source": [
        "matrix inversion"
      ],
      "metadata": {
        "id": "7u3E3lvYZusJ"
      }
    },
    {
      "cell_type": "code",
      "source": [
        "#create a random square matrix f and e\n",
        "f = np.random.randint(100, size=(3, 3))\n",
        "e = np.random.randint(10, size=(4, 4))\n",
        "\n",
        "#find trace and \n",
        "print('matrix f: ', f)\n",
        "print('trace of f: ', np.trace(f))\n",
        "print('inverse matrix of f: ', np.linalg.inv(f))\n",
        "\n",
        "#prove find the correct inverse matrix\n",
        "print('result of dot product of matrix f and its inverse matrix: ')\n",
        "print(np.round(np.dot(f,np.linalg.inv(f)),3), '\\n')\n",
        "\n",
        "print('matrix e: ', e)\n",
        "print('trace of e: ',np.trace(e))\n",
        "print('invert matrix of e: ', np.linalg.inv(e))\n",
        "\n",
        "#prove find the correct inverse matrix\n",
        "print('result of dot product of matrix e and its inverse matrix: ')\n",
        "print(np.round(np.dot(e,np.linalg.inv(e)),3))"
      ],
      "metadata": {
        "colab": {
          "base_uri": "https://localhost:8080/"
        },
        "id": "8VZH2oZSj0Mx",
        "outputId": "0223b3cf-dfe3-4ce8-c3a4-a7f1d7d396a5"
      },
      "execution_count": 60,
      "outputs": [
        {
          "output_type": "stream",
          "name": "stdout",
          "text": [
            "matrix f:  [[ 5  2 29]\n",
            " [93 96 82]\n",
            " [21 80  0]]\n",
            "trace of f:  101\n",
            "inverse matrix of f:  [[-0.05127403  0.0181335  -0.02047835]\n",
            " [ 0.01345943 -0.00476004  0.01787557]\n",
            " [ 0.04239487 -0.00279819  0.00229795]]\n",
            "result of dot product of matrix f and its inverse matrix: \n",
            "[[ 1. -0. -0.]\n",
            " [-0.  1. -0.]\n",
            " [-0. -0.  1.]] \n",
            "\n",
            "matrix e:  [[9 0 8 6]\n",
            " [4 6 6 1]\n",
            " [1 3 7 9]\n",
            " [5 2 8 6]]\n",
            "trace of e:  28\n",
            "invert matrix of e:  [[ 0.33596838  0.11857708  0.11067194 -0.52173913]\n",
            " [ 0.17193676  0.23715415  0.22134387 -0.54347826]\n",
            " [-0.43675889 -0.1541502  -0.34387352  0.97826087]\n",
            " [ 0.24505929  0.02766798  0.29249012 -0.52173913]]\n",
            "result of dot product of matrix e and its inverse matrix: \n",
            "[[ 1. -0.  0.  0.]\n",
            " [-0.  1.  0. -0.]\n",
            " [-0.  0.  1. -0.]\n",
            " [-0. -0.  0.  1.]]\n"
          ]
        }
      ]
    }
  ]
}